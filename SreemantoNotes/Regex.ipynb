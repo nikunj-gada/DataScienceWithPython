{
 "cells": [
  {
   "cell_type": "markdown",
   "metadata": {},
   "source": [
    "# Regex\n",
    "\n",
    "\n",
    "\n"
   ]
  },
  {
   "cell_type": "code",
   "execution_count": 85,
   "metadata": {},
   "outputs": [],
   "source": [
    "import re\n",
    "nameage = \"Janice is 22 and Theon is 33. Gab is 44 and Joey is 22.\""
   ]
  },
  {
   "cell_type": "code",
   "execution_count": 86,
   "metadata": {},
   "outputs": [],
   "source": [
    "#Pattern is Name starts with Caps followed by lower case and age in a two digit number\n",
    "\n",
    "ages = re.findall(r'\\d{2}',nameage)\n",
    "\n",
    "# \\d for digit search\n",
    "# curly braces is for size\n",
    "\n",
    "names = re.findall(r'[A-Z][a-z]*',nameage)"
   ]
  },
  {
   "cell_type": "code",
   "execution_count": 87,
   "metadata": {},
   "outputs": [],
   "source": [
    "names = re.findall(r'[A-Z][a-z]*',nameage)"
   ]
  },
  {
   "cell_type": "code",
   "execution_count": 88,
   "metadata": {},
   "outputs": [
    {
     "data": {
      "text/plain": [
       "(['22', '33', '44', '22'], ['Janice', 'Theon', 'Gab', 'Joey'])"
      ]
     },
     "execution_count": 88,
     "metadata": {},
     "output_type": "execute_result"
    }
   ],
   "source": [
    "ages,names"
   ]
  },
  {
   "cell_type": "code",
   "execution_count": 89,
   "metadata": {},
   "outputs": [],
   "source": [
    "agenamedict = {}\n",
    "\n",
    "x = 0\n",
    "for eachnames in names:\n",
    "    agenamedict[eachnames] = ages[x]\n",
    "    x = x+1"
   ]
  },
  {
   "cell_type": "code",
   "execution_count": 90,
   "metadata": {},
   "outputs": [
    {
     "data": {
      "text/plain": [
       "{'Janice': '22', 'Theon': '33', 'Gab': '44', 'Joey': '22'}"
      ]
     },
     "execution_count": 90,
     "metadata": {},
     "output_type": "execute_result"
    }
   ],
   "source": [
    "agenamedict"
   ]
  },
  {
   "cell_type": "markdown",
   "metadata": {},
   "source": [
    "# Searching a word in string"
   ]
  },
  {
   "cell_type": "code",
   "execution_count": 91,
   "metadata": {},
   "outputs": [],
   "source": [
    "import re"
   ]
  },
  {
   "cell_type": "code",
   "execution_count": 92,
   "metadata": {},
   "outputs": [
    {
     "name": "stdout",
     "output_type": "stream",
     "text": [
      "Spam\n"
     ]
    }
   ],
   "source": [
    "if re.search('alert','Christmas sales alert!! 70% cashback offer'):\n",
    "    print('Spam')\n",
    "else:\n",
    "    print('No Spam')\n"
   ]
  },
  {
   "cell_type": "code",
   "execution_count": 93,
   "metadata": {},
   "outputs": [
    {
     "name": "stdout",
     "output_type": "stream",
     "text": [
      "is\n",
      "is\n"
     ]
    }
   ],
   "source": [
    "#Find all the matches\n",
    "\n",
    "allinform = re.findall('is','Where there is a will. There is a way')\n",
    "\n",
    "for i in allinform:\n",
    "    print(i)"
   ]
  },
  {
   "cell_type": "markdown",
   "metadata": {},
   "source": [
    "# Searching Index"
   ]
  },
  {
   "cell_type": "code",
   "execution_count": 94,
   "metadata": {},
   "outputs": [
    {
     "data": {
      "text/plain": [
       "(19, 25)"
      ]
     },
     "execution_count": 94,
     "metadata": {},
     "output_type": "execute_result"
    }
   ],
   "source": [
    "#Getting the starting and ending index of a particular string\n",
    "\n",
    "#we are going to generate an iterator\n",
    "\n",
    "sentence = 'There were so many racist chants'\n",
    "\n",
    "for i in re.finditer('racist',sentence):\n",
    "    \n",
    "    pos = i.span()\n",
    "    \n",
    "pos"
   ]
  },
  {
   "cell_type": "markdown",
   "metadata": {},
   "source": [
    "# printing words with similar pattern"
   ]
  },
  {
   "cell_type": "code",
   "execution_count": 95,
   "metadata": {},
   "outputs": [
    {
     "data": {
      "text/plain": [
       "['sat', 'hat', 'mat', 'pat']"
      ]
     },
     "execution_count": 95,
     "metadata": {},
     "output_type": "execute_result"
    }
   ],
   "source": [
    "#printing words with similar pattern\n",
    "\n",
    "str1 = 'sat, hat, mat, pat'\n",
    "\n",
    "allstr = re.findall('[shmp]at',str1)\n",
    "\n",
    "allstr"
   ]
  },
  {
   "cell_type": "code",
   "execution_count": 96,
   "metadata": {},
   "outputs": [
    {
     "data": {
      "text/plain": [
       "['sat', 'hat', 'mat', 'pat']"
      ]
     },
     "execution_count": 96,
     "metadata": {},
     "output_type": "execute_result"
    }
   ],
   "source": [
    "#Checking with all characters\n",
    "\n",
    "allstr = re.findall('[a-z]at',str1)\n",
    "\n",
    "allstr"
   ]
  },
  {
   "cell_type": "code",
   "execution_count": 97,
   "metadata": {},
   "outputs": [
    {
     "data": {
      "text/plain": [
       "['hat', 'mat']"
      ]
     },
     "execution_count": 97,
     "metadata": {},
     "output_type": "execute_result"
    }
   ],
   "source": [
    "allstr = re.findall('[mh]at',str1)\n",
    "\n",
    "allstr"
   ]
  },
  {
   "cell_type": "code",
   "execution_count": 98,
   "metadata": {},
   "outputs": [
    {
     "data": {
      "text/plain": [
       "'We have biriyani in the menu'"
      ]
     },
     "execution_count": 98,
     "metadata": {},
     "output_type": "execute_result"
    }
   ],
   "source": [
    "# Substituting a value\n",
    "\n",
    "food = 'We have dosa in the menu'\n",
    "\n",
    "regex = re.compile('dosa')\n",
    "\n",
    "#compile is used in case of direct match\n",
    "\n",
    "#value is searched and subbed using compile object created in the previous line\n",
    "food = regex.sub('biriyani',food)\n",
    "\n",
    "food"
   ]
  },
  {
   "cell_type": "code",
   "execution_count": 99,
   "metadata": {},
   "outputs": [
    {
     "name": "stdout",
     "output_type": "stream",
     "text": [
      "valid number\n"
     ]
    }
   ],
   "source": [
    "#Phone number applications\n",
    "\n",
    "\n",
    "\n",
    "phn = '212-222-1234'\n",
    "\n",
    "# \\w takes upercase lowercase and number\n",
    "\n",
    "if re.search(\"\\w{3}-\\w{3}-\\w{4}\",phn):\n",
    "    print('valid number')\n",
    "    \n",
    "\n"
   ]
  },
  {
   "cell_type": "code",
   "execution_count": 100,
   "metadata": {},
   "outputs": [
    {
     "name": "stdout",
     "output_type": "stream",
     "text": [
      "invalid\n"
     ]
    }
   ],
   "source": [
    "phn = '212-2222-12347'\n",
    "\n",
    "if re.search(\"\\d{3}-\\d{3}-\\d{4}\",phn):\n",
    "    print('valid number')\n",
    "else:\n",
    "    print('invalid')\n"
   ]
  },
  {
   "cell_type": "code",
   "execution_count": 101,
   "metadata": {},
   "outputs": [
    {
     "name": "stdout",
     "output_type": "stream",
     "text": [
      "<re.Match object; span=(21, 22), match='.'>\n",
      "<re.Match object; span=(37, 38), match='.'>\n"
     ]
    }
   ],
   "source": [
    "text = \"Where there is a will. There is a way.\"\n",
    "pattern = re.compile(r'\\.')\n",
    "matches = pattern.finditer(text)\n",
    "\n",
    "for match in matches:\n",
    "    print(match)"
   ]
  },
  {
   "cell_type": "code",
   "execution_count": null,
   "metadata": {},
   "outputs": [],
   "source": [
    "[]  :     A set of characters \"[a-m]\"\n",
    "\\   :     Signals a special sequence (can also be used to escape special characters) \"\\d\"\n",
    ".   :     Any character (except newline character)  \"he..o\"\n",
    "^   :     Starts with  \"^hello\"\n",
    "$   :     Ends with \"world$\"\n",
    "*   :     Zero or more occurrences \"aix*\"\n",
    "+   :     One or more occurrences \"aix+\"\n",
    "{}  :     Exactly the specified number of occurrences\"al{2}\"\n",
    "()  :     Capture and group"
   ]
  },
  {
   "cell_type": "code",
   "execution_count": 102,
   "metadata": {},
   "outputs": [
    {
     "name": "stdout",
     "output_type": "stream",
     "text": [
      "['Hello']\n"
     ]
    }
   ],
   "source": [
    "txt = \"Hello World. This is Sreemanta\"\n",
    "x = re.findall(\"He..o\", txt)\n",
    "print(x)"
   ]
  },
  {
   "cell_type": "code",
   "execution_count": 103,
   "metadata": {},
   "outputs": [
    {
     "name": "stdout",
     "output_type": "stream",
     "text": [
      "No match\n"
     ]
    }
   ],
   "source": [
    "# txt = \"Philadelphia\"\n",
    "# txt = \"Philaddelphia\"\n",
    "# txt = \"Philadellphia\"\n",
    "txt = \"Philsbury\"\n",
    "x = re.findall(\"^Phila\", txt)\n",
    "if x:\n",
    "  print(\"Match\")\n",
    "else:\n",
    "  print(\"No match\")"
   ]
  },
  {
   "cell_type": "code",
   "execution_count": 104,
   "metadata": {},
   "outputs": [
    {
     "name": "stdout",
     "output_type": "stream",
     "text": [
      "False\n",
      "True\n",
      "True\n"
     ]
    }
   ],
   "source": [
    "#Write a Python program to check for a number at the end of a string.\n",
    "import re\n",
    "def end_num(string):\n",
    "    \n",
    "    text = re.compile(r\".*[0-9]$\")\n",
    "    \n",
    "    if text.match(string):\n",
    "        return True\n",
    "    else:\n",
    "        return False\n",
    "\n",
    "print(end_num('abc4def'))\n",
    "print(end_num('abcdef6'))\n",
    "print(end_num('a6'))\n",
    "\n",
    "#Remove the dollar sign and see what happens"
   ]
  },
  {
   "cell_type": "code",
   "execution_count": 105,
   "metadata": {},
   "outputs": [
    {
     "name": "stdout",
     "output_type": "stream",
     "text": [
      "<re.Match object; span=(10, 21), match='o@gmail.com'>\n",
      "<re.Match object; span=(31, 41), match='o@yahoo.in'>\n",
      "<re.Match object; span=(51, 63), match='o@outlook.co'>\n",
      "<re.Match object; span=(74, 87), match='o@out-look.co'>\n",
      "<re.Match object; span=(95, 106), match='3@gmail.com'>\n"
     ]
    }
   ],
   "source": [
    "myemails = '''\n",
    "ksreemanto@gmail.com\n",
    "ksreemanto@yahoo.in\n",
    "ksreemanto@outlook.co\n",
    "k1sreemanto@out-look.co\n",
    "ksree123@gmail.com\n",
    "'''\n",
    "\n",
    "#pattern = re.compile(r'[a-z]@[a-z]+.com')\n",
    "#pattern = re.compile(r'[a-z]@[a-z]+.(com|in|co)')\n",
    "#pattern = re.compile(r'[a-z0-9]@[a-z]+.(com|in|co)')\n",
    "pattern = re.compile(r'[a-z0-9]@[a-z-]+.(com|in|co)')\n",
    "\n",
    "matches = pattern.finditer(myemails)\n",
    "\n",
    "for match in matches:\n",
    "    print(match)"
   ]
  },
  {
   "cell_type": "code",
   "execution_count": null,
   "metadata": {},
   "outputs": [],
   "source": []
  },
  {
   "cell_type": "code",
   "execution_count": null,
   "metadata": {},
   "outputs": [],
   "source": []
  }
 ],
 "metadata": {
  "kernelspec": {
   "display_name": "Python 3",
   "language": "python",
   "name": "python3"
  },
  "language_info": {
   "codemirror_mode": {
    "name": "ipython",
    "version": 3
   },
   "file_extension": ".py",
   "mimetype": "text/x-python",
   "name": "python",
   "nbconvert_exporter": "python",
   "pygments_lexer": "ipython3",
   "version": "3.7.6"
  }
 },
 "nbformat": 4,
 "nbformat_minor": 2
}
