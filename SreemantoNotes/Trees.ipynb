{
 "cells": [
  {
   "cell_type": "code",
   "execution_count": 37,
   "metadata": {},
   "outputs": [],
   "source": [
    "# Calculate the Gini index for a split dataset\n",
    "\n",
    "def gini_index(groups, classes):\n",
    "    \n",
    "    # count all samples at split point\n",
    "    n_instances = float(sum([len(group) for group in groups]))\n",
    "    print(n_instances)\n",
    "    \n",
    "    # sum weighted Gini index for each group\n",
    "    gini = 0.0\n",
    "    for group in groups:\n",
    "        \n",
    "        size = float(len(group))\n",
    "        #print(size)\n",
    "\n",
    "        # avoid divide by zero\n",
    "        if size == 0:\n",
    "            continue\n",
    "        score = 0.0\n",
    "\n",
    "        # score the group based on the score for each class\n",
    "        for class_val in classes:\n",
    "            p = [row[-1] for row in group].count(class_val) / size\n",
    "            #print(p)\n",
    "            score += p * p\n",
    "\n",
    "    # weight the group score by its relative size\n",
    "        gini += (1.0 - score) * (size / n_instances)\n",
    "    return gini\n"
   ]
  },
  {
   "cell_type": "code",
   "execution_count": 38,
   "metadata": {},
   "outputs": [
    {
     "name": "stdout",
     "output_type": "stream",
     "text": [
      "4.0\n",
      "0.5\n",
      "4.0\n",
      "0.0\n"
     ]
    }
   ],
   "source": [
    "# test Gini values\n",
    "print(gini_index([   [[1, 1], [1, 0]], [[1, 1], [1, 0]]   ],[0, 1]))\n",
    "print(gini_index([[[1, 0], [1, 0]], [[1, 1], [1, 1]]], [0, 1]))"
   ]
  },
  {
   "cell_type": "code",
   "execution_count": 39,
   "metadata": {},
   "outputs": [
    {
     "name": "stdout",
     "output_type": "stream",
     "text": [
      "[[1, 1], [1, 0]]\n",
      "2.0\n",
      "0\n"
     ]
    },
    {
     "ename": "NameError",
     "evalue": "name 'score' is not defined",
     "output_type": "error",
     "traceback": [
      "\u001b[1;31m---------------------------------------------------------------------------\u001b[0m",
      "\u001b[1;31mNameError\u001b[0m                                 Traceback (most recent call last)",
      "\u001b[1;32m<ipython-input-39-dadca8263129>\u001b[0m in \u001b[0;36m<module>\u001b[1;34m\u001b[0m\n\u001b[0;32m     11\u001b[0m         \u001b[0mprint\u001b[0m\u001b[1;33m(\u001b[0m\u001b[0mclass_val\u001b[0m\u001b[1;33m)\u001b[0m\u001b[1;33m\u001b[0m\u001b[1;33m\u001b[0m\u001b[0m\n\u001b[0;32m     12\u001b[0m         \u001b[0mp\u001b[0m \u001b[1;33m=\u001b[0m \u001b[1;33m[\u001b[0m\u001b[0mrow\u001b[0m\u001b[1;33m[\u001b[0m\u001b[1;33m-\u001b[0m\u001b[1;36m1\u001b[0m\u001b[1;33m]\u001b[0m \u001b[1;32mfor\u001b[0m \u001b[0mrow\u001b[0m \u001b[1;32min\u001b[0m \u001b[0mgroup\u001b[0m\u001b[1;33m]\u001b[0m\u001b[1;33m.\u001b[0m\u001b[0mcount\u001b[0m\u001b[1;33m(\u001b[0m\u001b[0mclass_val\u001b[0m\u001b[1;33m)\u001b[0m \u001b[1;33m/\u001b[0m \u001b[0msize\u001b[0m\u001b[1;33m\u001b[0m\u001b[1;33m\u001b[0m\u001b[0m\n\u001b[1;32m---> 13\u001b[1;33m         \u001b[0mscore\u001b[0m \u001b[1;33m+=\u001b[0m \u001b[0mp\u001b[0m \u001b[1;33m*\u001b[0m \u001b[0mp\u001b[0m\u001b[1;33m\u001b[0m\u001b[1;33m\u001b[0m\u001b[0m\n\u001b[0m\u001b[0;32m     14\u001b[0m         \u001b[0mprint\u001b[0m\u001b[1;33m(\u001b[0m\u001b[0mp\u001b[0m\u001b[1;33m,\u001b[0m\u001b[1;34m'---->'\u001b[0m\u001b[1;33m)\u001b[0m\u001b[1;33m\u001b[0m\u001b[1;33m\u001b[0m\u001b[0m\n\u001b[0;32m     15\u001b[0m     \u001b[0mgini\u001b[0m \u001b[1;33m+=\u001b[0m \u001b[1;33m(\u001b[0m\u001b[1;36m1.0\u001b[0m \u001b[1;33m-\u001b[0m \u001b[0mscore\u001b[0m\u001b[1;33m)\u001b[0m \u001b[1;33m*\u001b[0m \u001b[1;33m(\u001b[0m\u001b[0msize\u001b[0m \u001b[1;33m/\u001b[0m \u001b[0mn_instances\u001b[0m\u001b[1;33m)\u001b[0m\u001b[1;33m\u001b[0m\u001b[1;33m\u001b[0m\u001b[0m\n",
      "\u001b[1;31mNameError\u001b[0m: name 'score' is not defined"
     ]
    }
   ],
   "source": [
    "#n_instances = float(sum([len(group) for group in groups]))\n",
    "classes = [0,1]\n",
    "groups = [   [[1, 1], [1, 0]], [[1, 1], [1, 0]]   ]\n",
    "gini = 0\n",
    "n_instances = float(sum([len(group) for group in groups]))\n",
    "for group in groups:\n",
    "    print(group)\n",
    "    size = float(len(group))\n",
    "    print(size)\n",
    "    for class_val in classes:\n",
    "        print(class_val)\n",
    "        p = [row[-1] for row in group].count(class_val) / size\n",
    "        score += p * p\n",
    "        print(p,'---->')\n",
    "    gini += (1.0 - score) * (size / n_instances)\n",
    "print(gini,'------------------>')"
   ]
  },
  {
   "cell_type": "code",
   "execution_count": 52,
   "metadata": {},
   "outputs": [],
   "source": [
    "# Import packages\n",
    "import pandas as pd\n",
    "from sklearn.tree import DecisionTreeClassifier, plot_tree\n",
    "import matplotlib.pyplot as plt\n",
    "%matplotlib inline"
   ]
  },
  {
   "cell_type": "code",
   "execution_count": 54,
   "metadata": {},
   "outputs": [],
   "source": [
    "# Import sample data\n",
    "df = pd.DataFrame(data={'was_on_a_break': [0,1,1,0,0,0],\n",
    "                        'ever_married': [1,0,1,1,0,0],\n",
    "                        'had_pet': [0,1,0,0,0,1],\n",
    "                        'is_parent': [1,1,1,1,0,0]}, \n",
    "                  index=['Chandler', 'Joey', 'Monica', 'Phoebe', 'Rachael', 'Ross'])"
   ]
  },
  {
   "cell_type": "code",
   "execution_count": 55,
   "metadata": {},
   "outputs": [],
   "source": [
    "# Define features:X and target:y\n",
    "X = df.drop(columns='is_parent')\n",
    "y = df['is_parent']"
   ]
  },
  {
   "cell_type": "code",
   "execution_count": 56,
   "metadata": {},
   "outputs": [
    {
     "data": {
      "text/plain": [
       "DecisionTreeClassifier(random_state=0)"
      ]
     },
     "execution_count": 56,
     "metadata": {},
     "output_type": "execute_result"
    }
   ],
   "source": [
    "\n",
    "# Build a decision tree\n",
    "clf = DecisionTreeClassifier(random_state=0, criterion='gini')\n",
    "#clf = DecisionTreeClassifier(random_state=0, criterion='entropy')\n",
    "clf.fit(X, y)"
   ]
  },
  {
   "cell_type": "code",
   "execution_count": 57,
   "metadata": {},
   "outputs": [
    {
     "data": {
      "image/png": "[encoded data removed]",
      "text/plain": [
       "<Figure size 432x432 with 1 Axes>"
      ]
     },
     "metadata": {
      "needs_background": "light"
     },
     "output_type": "display_data"
    }
   ],
   "source": [
    "# Visualise the tree (can also visualise a prettier tree using graphviz: https://scikit-learn.org/stable/modules/tree.html)\n",
    "plt.figure(figsize=(6,6))\n",
    "plot_tree(clf);"
   ]
  },
  {
   "cell_type": "code",
   "execution_count": 44,
   "metadata": {},
   "outputs": [
    {
     "data": {
      "text/html": [
       "<div>\n",
       "<style scoped>\n",
       "    .dataframe tbody tr th:only-of-type {\n",
       "        vertical-align: middle;\n",
       "    }\n",
       "\n",
       "    .dataframe tbody tr th {\n",
       "        vertical-align: top;\n",
       "    }\n",
       "\n",
       "    .dataframe thead th {\n",
       "        text-align: right;\n",
       "    }\n",
       "</style>\n",
       "<table border=\"1\" class=\"dataframe\">\n",
       "  <thead>\n",
       "    <tr style=\"text-align: right;\">\n",
       "      <th></th>\n",
       "      <th>Classification</th>\n",
       "      <th>hour of practice</th>\n",
       "      <th>Pass the quiz</th>\n",
       "    </tr>\n",
       "  </thead>\n",
       "  <tbody>\n",
       "    <tr>\n",
       "      <th>0</th>\n",
       "      <td>Freshman</td>\n",
       "      <td>&gt;2h</td>\n",
       "      <td>Yes</td>\n",
       "    </tr>\n",
       "    <tr>\n",
       "      <th>1</th>\n",
       "      <td>Freshman</td>\n",
       "      <td>&gt;2h</td>\n",
       "      <td>Yes</td>\n",
       "    </tr>\n",
       "    <tr>\n",
       "      <th>2</th>\n",
       "      <td>Sophomore</td>\n",
       "      <td>&gt;2h</td>\n",
       "      <td>Yes</td>\n",
       "    </tr>\n",
       "    <tr>\n",
       "      <th>3</th>\n",
       "      <td>Junior</td>\n",
       "      <td>&lt;2h</td>\n",
       "      <td>Yes</td>\n",
       "    </tr>\n",
       "    <tr>\n",
       "      <th>4</th>\n",
       "      <td>Freshman</td>\n",
       "      <td>&gt;2h</td>\n",
       "      <td>No</td>\n",
       "    </tr>\n",
       "    <tr>\n",
       "      <th>5</th>\n",
       "      <td>Sophomore</td>\n",
       "      <td>&lt;2h</td>\n",
       "      <td>No</td>\n",
       "    </tr>\n",
       "  </tbody>\n",
       "</table>\n",
       "</div>"
      ],
      "text/plain": [
       "  Classification hour of practice Pass the quiz\n",
       "0       Freshman              >2h           Yes\n",
       "1       Freshman              >2h           Yes\n",
       "2      Sophomore              >2h           Yes\n",
       "3         Junior              <2h           Yes\n",
       "4       Freshman              >2h            No\n",
       "5      Sophomore              <2h            No"
      ]
     },
     "execution_count": 44,
     "metadata": {},
     "output_type": "execute_result"
    }
   ],
   "source": [
    "import pandas as pd\n",
    "classification=['Freshman','Freshman','Sophomore','Junior','Freshman','Sophomore']\n",
    "hour_of_practice=['>2h','>2h','>2h','<2h','>2h','<2h']\n",
    "pass_the_quiz=['Yes','Yes','Yes', 'Yes', 'No','No']\n",
    "df=pd.DataFrame({'Classification':classification, \n",
    "                'hour of practice':hour_of_practice, \n",
    "                \"Pass the quiz\":pass_the_quiz })\n",
    "df"
   ]
  },
  {
   "cell_type": "code",
   "execution_count": 48,
   "metadata": {},
   "outputs": [],
   "source": [
    "# Input Format(df, feature name, category name ,target name, list of all classes)\n",
    "# where df is the current node observation\n",
    "def gini(df,feature,category,target,classes_list):\n",
    "    \n",
    "    df=df[df[feature]==category]\n",
    "    \n",
    "    def P_i_K(i):\n",
    "        return len(df[df[target]==i])/len(df)\n",
    "        \n",
    "    result=1-sum([(P_i_K(i))**2 for i in classes_list])\n",
    "    return result\n",
    "\n",
    "# Input Format(df, feature name, target name, list of all classes)\n",
    "def Gini_index(df,feature,target,classes_list):\n",
    "    \n",
    "    def P_k_a(category):\n",
    "        return len(df[df[feature]==category])/len(df)\n",
    "    \n",
    "    result=0\n",
    "    \n",
    "    for category in df[feature].unique():\n",
    "        \n",
    "        gini_value=gini(df,feature,category,target,classes_list) \n",
    "        \n",
    "        P_k_a_value=P_k_a(category)\n",
    "        \n",
    "        result+=gini_value*P_k_a_value\n",
    "    return result"
   ]
  },
  {
   "cell_type": "code",
   "execution_count": 49,
   "metadata": {},
   "outputs": [
    {
     "name": "stdout",
     "output_type": "stream",
     "text": [
      "Gini Index of Classification 0.38888888888888884\n",
      "Gini Index of hour of practice 0.41666666666666663\n"
     ]
    }
   ],
   "source": [
    "print(\"Gini Index of Classification\",\n",
    "      Gini_index(df,\"Classification\",\"Pass the quiz\",['Yes','No']))\n",
    "print(\"Gini Index of hour of practice\", \n",
    "      Gini_index(df,\"hour of practice\",\"Pass the quiz\",['Yes','No']))"
   ]
  },
  {
   "cell_type": "code",
   "execution_count": null,
   "metadata": {},
   "outputs": [],
   "source": []
  }
 ],
 "metadata": {
  "kernelspec": {
   "display_name": "Python 3",
   "language": "python",
   "name": "python3"
  },
  "language_info": {
   "codemirror_mode": {
    "name": "ipython",
    "version": 3
   },
   "file_extension": ".py",
   "mimetype": "text/x-python",
   "name": "python",
   "nbconvert_exporter": "python",
   "pygments_lexer": "ipython3",
   "version": "3.7.6"
  }
 },
 "nbformat": 4,
 "nbformat_minor": 4
}
